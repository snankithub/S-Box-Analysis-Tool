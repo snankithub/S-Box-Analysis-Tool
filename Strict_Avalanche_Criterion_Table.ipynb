{
  "nbformat": 4,
  "nbformat_minor": 0,
  "metadata": {
    "colab": {
      "provenance": []
    },
    "kernelspec": {
      "name": "python3",
      "display_name": "Python 3"
    },
    "language_info": {
      "name": "python"
    }
  },
  "cells": [
    {
      "cell_type": "code",
      "execution_count": null,
      "metadata": {
        "id": "77hCcsWShDTc"
      },
      "outputs": [],
      "source": [
        "import numpy as np\n",
        "\n",
        "def calculate_sac(sbox):\n",
        "    \"\"\"\n",
        "    Compute the Strict Avalanche Criterion (SAC) table for a cryptographic S-Box.\n",
        "\n",
        "    Parameters:\n",
        "        sbox (list): A list of 256 integers representing the S-Box (values between 0 and 255).\n",
        "\n",
        "    Returns:\n",
        "        np.ndarray: An 8x8 SAC table where each entry represents the probability of flipping.\n",
        "    \"\"\"\n",
        "    # Ensure S-Box is valid\n",
        "    if len(sbox) != 256 or any(x < 0 or x > 255 for x in sbox):\n",
        "        raise ValueError(\"S-Box must contain 256 values between 0 and 255.\")\n",
        "\n",
        "    # Convert S-Box outputs to binary strings\n",
        "    sbox_bin = [f\"{value:08b}\" for value in sbox]\n",
        "    sac_table = np.zeros((8, 8))  # Initialize an 8x8 SAC matrix\n",
        "\n",
        "    # Compute SAC for each input-output bit pair\n",
        "    for input_bit in range(8):  # Input bits (0 to 7)\n",
        "        for output_bit in range(8):  # Output bits (0 to 7)\n",
        "            flips = 0  # Count output bit flips\n",
        "            for input_val in range(256):\n",
        "                # Flip the specific input bit\n",
        "                flipped_input = input_val ^ (1 << input_bit)\n",
        "\n",
        "                # Extract the output bits before and after flipping\n",
        "                original_bit = sbox_bin[input_val][output_bit]  # Output bit of original input\n",
        "                flipped_bit = sbox_bin[flipped_input][output_bit]  # Output bit of flipped input\n",
        "\n",
        "                # Check if the output bit flips\n",
        "                if original_bit != flipped_bit:\n",
        "                    flips += 1\n",
        "\n",
        "            # Compute the SAC value as a proportion\n",
        "            sac_table[input_bit][output_bit] = flips / 256\n",
        "\n",
        "    return sac_table\n",
        "\n",
        "\n",
        "if __name__ == \"__main__\":\n",
        "    # Example S-Box for testing\n",
        "    sbox =[130, 145, 47, 56, 199, 107, 201, 84, 146, 124, 178, 153, 74, 3, 75, 159, 177, 205, 197, 61, 116, 163, 235, 29, 249, 103, 113, 1, 223, 45, 54, 46, 212, 81, 26, 94, 227, 215, 160, 41, 18, 27, 137, 101, 121, 12, 247, 194, 154, 82, 22, 171, 208, 7, 180, 40, 57, 17, 167, 240, 77, 231, 132, 63, 36, 222, 6, 127, 251, 110, 25, 254, 239, 60, 172, 10, 115, 114, 97, 51, 151, 139, 225, 157, 85, 214, 131, 248, 15, 37, 183, 96, 238, 108, 66, 90, 38, 23, 187, 173, 78, 123, 204, 246, 32, 200, 233, 118, 93, 87, 221, 55, 129, 179, 39, 140, 19, 109, 117, 152, 234, 202, 42, 253, 24, 58, 67, 76, 244, 122, 0, 181, 11, 20, 255, 134, 128, 106, 21, 190, 125, 182, 95, 5, 209, 80, 86, 203, 175, 111, 207, 79, 112, 59, 92, 14, 213, 31, 150, 176, 33, 126, 136, 243, 216, 73, 9, 89, 230, 30, 166, 236, 48, 206, 83, 144, 53, 252, 168, 28, 158, 16, 34, 210, 196, 245, 161, 141, 156, 99, 52, 148, 228, 8, 119, 2, 65, 185, 188, 98, 186, 232, 191, 211, 100, 44, 220, 226, 164, 241, 149, 250, 162, 13, 64, 184, 49, 133, 135, 174, 237, 170, 217, 219, 198, 105, 68, 4, 242, 120, 138, 70, 69, 155, 229, 72, 88, 102, 35, 193, 104, 91, 165, 189, 50, 192, 195, 169, 218, 143, 62, 43, 142, 147, 71, 224]\n",
        "    # Calculate and display the SAC table\n",
        "    sac_table = calculate_sac(sbox)\n",
        "    print(\"SAC Table (8x8):\")\n",
        "    print(sac_table)\n"
      ]
    }
  ]
}